{
 "cells": [
  {
   "cell_type": "markdown",
   "id": "9cb91cc5",
   "metadata": {},
   "source": [
    "## Import Libraries"
   ]
  },
  {
   "cell_type": "code",
   "execution_count": 10,
   "id": "e82d5f78",
   "metadata": {},
   "outputs": [
    {
     "name": "stderr",
     "output_type": "stream",
     "text": [
      "d:\\Projects\\AI_projects\\Machine_Prediction\\env\\Lib\\site-packages\\tqdm\\auto.py:21: TqdmWarning: IProgress not found. Please update jupyter and ipywidgets. See https://ipywidgets.readthedocs.io/en/stable/user_install.html\n",
      "  from .autonotebook import tqdm as notebook_tqdm\n"
     ]
    }
   ],
   "source": [
    "import os\n",
    "import torch\n",
    "import mlflow\n",
    "import optuna\n",
    "import mlflow.pytorch\n",
    "import torch.nn as nn\n",
    "import pandas as pd\n",
    "from torch.utils.data import DataLoader, TensorDataset\n",
    "from sklearn.model_selection import train_test_split\n"
   ]
  },
  {
   "cell_type": "code",
   "execution_count": 14,
   "id": "5b5b177d",
   "metadata": {},
   "outputs": [
    {
     "data": {
      "text/plain": [
       "'d:\\\\Projects\\\\AI_projects\\\\Machine_Prediction'"
      ]
     },
     "execution_count": 14,
     "metadata": {},
     "output_type": "execute_result"
    }
   ],
   "source": [
    "os.getcwd()"
   ]
  },
  {
   "cell_type": "code",
   "execution_count": 15,
   "id": "69b52da7",
   "metadata": {},
   "outputs": [],
   "source": [
    "df = pd.read_csv(\"data\\preprocessed.csv\")"
   ]
  },
  {
   "cell_type": "code",
   "execution_count": 16,
   "id": "4b04cd4f",
   "metadata": {},
   "outputs": [
    {
     "data": {
      "text/html": [
       "<div>\n",
       "<style scoped>\n",
       "    .dataframe tbody tr th:only-of-type {\n",
       "        vertical-align: middle;\n",
       "    }\n",
       "\n",
       "    .dataframe tbody tr th {\n",
       "        vertical-align: top;\n",
       "    }\n",
       "\n",
       "    .dataframe thead th {\n",
       "        text-align: right;\n",
       "    }\n",
       "</style>\n",
       "<table border=\"1\" class=\"dataframe\">\n",
       "  <thead>\n",
       "    <tr style=\"text-align: right;\">\n",
       "      <th></th>\n",
       "      <th>footfall</th>\n",
       "      <th>USS</th>\n",
       "      <th>CS</th>\n",
       "      <th>VOC</th>\n",
       "      <th>RP</th>\n",
       "      <th>IP</th>\n",
       "      <th>Temperature</th>\n",
       "      <th>AQ</th>\n",
       "      <th>tempMode</th>\n",
       "      <th>fail</th>\n",
       "    </tr>\n",
       "  </thead>\n",
       "  <tbody>\n",
       "    <tr>\n",
       "      <th>0</th>\n",
       "      <td>-0.283153</td>\n",
       "      <td>-1.402480</td>\n",
       "      <td>0.477610</td>\n",
       "      <td>1.389813</td>\n",
       "      <td>-0.672788</td>\n",
       "      <td>-0.979504</td>\n",
       "      <td>-2.567407</td>\n",
       "      <td>1.860497</td>\n",
       "      <td>7</td>\n",
       "      <td>1</td>\n",
       "    </tr>\n",
       "    <tr>\n",
       "      <th>1</th>\n",
       "      <td>-0.107558</td>\n",
       "      <td>0.043660</td>\n",
       "      <td>-0.310613</td>\n",
       "      <td>-0.810763</td>\n",
       "      <td>-1.647540</td>\n",
       "      <td>-0.353894</td>\n",
       "      <td>-2.567407</td>\n",
       "      <td>-0.921775</td>\n",
       "      <td>1</td>\n",
       "      <td>0</td>\n",
       "    </tr>\n",
       "    <tr>\n",
       "      <th>2</th>\n",
       "      <td>-0.254504</td>\n",
       "      <td>-0.679410</td>\n",
       "      <td>0.477610</td>\n",
       "      <td>-0.810763</td>\n",
       "      <td>-1.403852</td>\n",
       "      <td>0.897327</td>\n",
       "      <td>-2.567407</td>\n",
       "      <td>-1.617343</td>\n",
       "      <td>7</td>\n",
       "      <td>0</td>\n",
       "    </tr>\n",
       "    <tr>\n",
       "      <th>3</th>\n",
       "      <td>-0.206446</td>\n",
       "      <td>0.766730</td>\n",
       "      <td>-0.310613</td>\n",
       "      <td>-0.810763</td>\n",
       "      <td>-1.160164</td>\n",
       "      <td>0.897327</td>\n",
       "      <td>-2.567407</td>\n",
       "      <td>-0.921775</td>\n",
       "      <td>4</td>\n",
       "      <td>0</td>\n",
       "    </tr>\n",
       "    <tr>\n",
       "      <th>4</th>\n",
       "      <td>0.308326</td>\n",
       "      <td>2.212869</td>\n",
       "      <td>-1.098836</td>\n",
       "      <td>-1.250878</td>\n",
       "      <td>1.276716</td>\n",
       "      <td>0.897327</td>\n",
       "      <td>-2.567407</td>\n",
       "      <td>0.469361</td>\n",
       "      <td>7</td>\n",
       "      <td>0</td>\n",
       "    </tr>\n",
       "    <tr>\n",
       "      <th>...</th>\n",
       "      <td>...</td>\n",
       "      <td>...</td>\n",
       "      <td>...</td>\n",
       "      <td>...</td>\n",
       "      <td>...</td>\n",
       "      <td>...</td>\n",
       "      <td>...</td>\n",
       "      <td>...</td>\n",
       "      <td>...</td>\n",
       "      <td>...</td>\n",
       "    </tr>\n",
       "    <tr>\n",
       "      <th>939</th>\n",
       "      <td>-0.283153</td>\n",
       "      <td>-1.402480</td>\n",
       "      <td>0.477610</td>\n",
       "      <td>0.509582</td>\n",
       "      <td>1.581326</td>\n",
       "      <td>0.897327</td>\n",
       "      <td>1.284147</td>\n",
       "      <td>1.860497</td>\n",
       "      <td>7</td>\n",
       "      <td>1</td>\n",
       "    </tr>\n",
       "    <tr>\n",
       "      <th>940</th>\n",
       "      <td>-0.283153</td>\n",
       "      <td>-0.679410</td>\n",
       "      <td>0.477610</td>\n",
       "      <td>1.389813</td>\n",
       "      <td>0.180120</td>\n",
       "      <td>0.897327</td>\n",
       "      <td>1.284147</td>\n",
       "      <td>0.469361</td>\n",
       "      <td>7</td>\n",
       "      <td>1</td>\n",
       "    </tr>\n",
       "    <tr>\n",
       "      <th>941</th>\n",
       "      <td>-0.283153</td>\n",
       "      <td>-0.679410</td>\n",
       "      <td>1.265832</td>\n",
       "      <td>0.949698</td>\n",
       "      <td>-0.246334</td>\n",
       "      <td>0.897327</td>\n",
       "      <td>1.284147</td>\n",
       "      <td>1.164929</td>\n",
       "      <td>3</td>\n",
       "      <td>1</td>\n",
       "    </tr>\n",
       "    <tr>\n",
       "      <th>942</th>\n",
       "      <td>-0.283153</td>\n",
       "      <td>-0.679410</td>\n",
       "      <td>-0.310613</td>\n",
       "      <td>1.389813</td>\n",
       "      <td>-0.063568</td>\n",
       "      <td>1.522937</td>\n",
       "      <td>1.284147</td>\n",
       "      <td>1.164929</td>\n",
       "      <td>6</td>\n",
       "      <td>1</td>\n",
       "    </tr>\n",
       "    <tr>\n",
       "      <th>943</th>\n",
       "      <td>-0.266518</td>\n",
       "      <td>-0.679410</td>\n",
       "      <td>0.477610</td>\n",
       "      <td>0.069467</td>\n",
       "      <td>0.850262</td>\n",
       "      <td>1.522937</td>\n",
       "      <td>1.284147</td>\n",
       "      <td>-0.226207</td>\n",
       "      <td>7</td>\n",
       "      <td>1</td>\n",
       "    </tr>\n",
       "  </tbody>\n",
       "</table>\n",
       "<p>944 rows × 10 columns</p>\n",
       "</div>"
      ],
      "text/plain": [
       "     footfall       USS        CS       VOC        RP        IP  Temperature  \\\n",
       "0   -0.283153 -1.402480  0.477610  1.389813 -0.672788 -0.979504    -2.567407   \n",
       "1   -0.107558  0.043660 -0.310613 -0.810763 -1.647540 -0.353894    -2.567407   \n",
       "2   -0.254504 -0.679410  0.477610 -0.810763 -1.403852  0.897327    -2.567407   \n",
       "3   -0.206446  0.766730 -0.310613 -0.810763 -1.160164  0.897327    -2.567407   \n",
       "4    0.308326  2.212869 -1.098836 -1.250878  1.276716  0.897327    -2.567407   \n",
       "..        ...       ...       ...       ...       ...       ...          ...   \n",
       "939 -0.283153 -1.402480  0.477610  0.509582  1.581326  0.897327     1.284147   \n",
       "940 -0.283153 -0.679410  0.477610  1.389813  0.180120  0.897327     1.284147   \n",
       "941 -0.283153 -0.679410  1.265832  0.949698 -0.246334  0.897327     1.284147   \n",
       "942 -0.283153 -0.679410 -0.310613  1.389813 -0.063568  1.522937     1.284147   \n",
       "943 -0.266518 -0.679410  0.477610  0.069467  0.850262  1.522937     1.284147   \n",
       "\n",
       "           AQ  tempMode  fail  \n",
       "0    1.860497         7     1  \n",
       "1   -0.921775         1     0  \n",
       "2   -1.617343         7     0  \n",
       "3   -0.921775         4     0  \n",
       "4    0.469361         7     0  \n",
       "..        ...       ...   ...  \n",
       "939  1.860497         7     1  \n",
       "940  0.469361         7     1  \n",
       "941  1.164929         3     1  \n",
       "942  1.164929         6     1  \n",
       "943 -0.226207         7     1  \n",
       "\n",
       "[944 rows x 10 columns]"
      ]
     },
     "execution_count": 16,
     "metadata": {},
     "output_type": "execute_result"
    }
   ],
   "source": [
    "df"
   ]
  },
  {
   "cell_type": "code",
   "execution_count": 19,
   "id": "69b87a8f",
   "metadata": {},
   "outputs": [],
   "source": [
    "x = df.drop(columns=[\"fail\"])\n",
    "y = df[\"fail\"]"
   ]
  },
  {
   "cell_type": "code",
   "execution_count": null,
   "id": "2e48e5d6",
   "metadata": {},
   "outputs": [
    {
     "ename": "SyntaxError",
     "evalue": "invalid syntax. Maybe you meant '==' or ':=' instead of '='? (2468614457.py, line 1)",
     "output_type": "error",
     "traceback": [
      "  \u001b[36mCell\u001b[39m\u001b[36m \u001b[39m\u001b[32mIn[20]\u001b[39m\u001b[32m, line 1\u001b[39m\n\u001b[31m    \u001b[39m\u001b[31mx_train, x_test, y_train, y_testtrain_test_split = (x, y, test_size=0.2, random_state=42, shuffle=True)\u001b[39m\n                                                              ^\n\u001b[31mSyntaxError\u001b[39m\u001b[31m:\u001b[39m invalid syntax. Maybe you meant '==' or ':=' instead of '='?\n"
     ]
    }
   ],
   "source": [
    "        x_train, x_test, y_train, y_test = train_test_split (x, y, test_size=0.2, random_state=42, shuffle=True"
   ]
  },
  {
   "cell_type": "code",
   "execution_count": null,
   "id": "289d2a75",
   "metadata": {},
   "outputs": [],
   "source": []
  },
  {
   "cell_type": "code",
   "execution_count": null,
   "id": "419bf37f",
   "metadata": {},
   "outputs": [],
   "source": []
  },
  {
   "cell_type": "code",
   "execution_count": null,
   "id": "e7c30461",
   "metadata": {},
   "outputs": [],
   "source": []
  },
  {
   "cell_type": "code",
   "execution_count": null,
   "id": "66102000",
   "metadata": {},
   "outputs": [],
   "source": []
  },
  {
   "cell_type": "code",
   "execution_count": null,
   "id": "8627c7ab",
   "metadata": {},
   "outputs": [],
   "source": []
  },
  {
   "cell_type": "code",
   "execution_count": null,
   "id": "1b1a5733",
   "metadata": {},
   "outputs": [],
   "source": []
  },
  {
   "cell_type": "code",
   "execution_count": null,
   "id": "2e773739",
   "metadata": {},
   "outputs": [],
   "source": []
  },
  {
   "cell_type": "code",
   "execution_count": null,
   "id": "35d60bb0",
   "metadata": {},
   "outputs": [],
   "source": []
  },
  {
   "cell_type": "code",
   "execution_count": null,
   "id": "5c94a7d0",
   "metadata": {},
   "outputs": [],
   "source": []
  },
  {
   "cell_type": "code",
   "execution_count": null,
   "id": "2e5f1d27",
   "metadata": {},
   "outputs": [],
   "source": []
  },
  {
   "cell_type": "code",
   "execution_count": null,
   "id": "08fa4f82",
   "metadata": {},
   "outputs": [],
   "source": []
  },
  {
   "cell_type": "code",
   "execution_count": null,
   "id": "77c51483",
   "metadata": {},
   "outputs": [],
   "source": []
  },
  {
   "cell_type": "code",
   "execution_count": null,
   "id": "cf3b2e61",
   "metadata": {},
   "outputs": [],
   "source": []
  },
  {
   "cell_type": "code",
   "execution_count": null,
   "id": "dbeb669d",
   "metadata": {},
   "outputs": [],
   "source": []
  },
  {
   "cell_type": "code",
   "execution_count": null,
   "id": "f5b86493",
   "metadata": {},
   "outputs": [],
   "source": []
  },
  {
   "cell_type": "code",
   "execution_count": null,
   "id": "3276748e",
   "metadata": {},
   "outputs": [],
   "source": []
  },
  {
   "cell_type": "code",
   "execution_count": null,
   "id": "add03e7b",
   "metadata": {},
   "outputs": [],
   "source": []
  },
  {
   "cell_type": "code",
   "execution_count": null,
   "id": "bf82a1cb",
   "metadata": {},
   "outputs": [],
   "source": []
  },
  {
   "cell_type": "code",
   "execution_count": null,
   "id": "b3b24ba8",
   "metadata": {},
   "outputs": [],
   "source": []
  },
  {
   "cell_type": "code",
   "execution_count": null,
   "id": "7b5c80fd",
   "metadata": {},
   "outputs": [],
   "source": []
  }
 ],
 "metadata": {
  "kernelspec": {
   "display_name": "env",
   "language": "python",
   "name": "python3"
  },
  "language_info": {
   "codemirror_mode": {
    "name": "ipython",
    "version": 3
   },
   "file_extension": ".py",
   "mimetype": "text/x-python",
   "name": "python",
   "nbconvert_exporter": "python",
   "pygments_lexer": "ipython3",
   "version": "3.11.11"
  }
 },
 "nbformat": 4,
 "nbformat_minor": 5
}
